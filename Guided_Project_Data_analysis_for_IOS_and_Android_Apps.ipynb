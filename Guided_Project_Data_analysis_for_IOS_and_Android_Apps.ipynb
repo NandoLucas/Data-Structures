{
  "nbformat": 4,
  "nbformat_minor": 0,
  "metadata": {
    "colab": {
      "provenance": [],
      "collapsed_sections": []
    },
    "kernelspec": {
      "name": "python3",
      "display_name": "Python 3"
    },
    "language_info": {
      "name": "python"
    }
  },
  "cells": [
    {
      "cell_type": "markdown",
      "source": [
        "## Projeto Guiado\n",
        "- Utilização de análise de dados para auxiliar a melhor obtenção de usuários e engajamento por aplicativos para Android e IOS."
      ],
      "metadata": {
        "id": "C0_BDCDDRyLk"
      }
    },
    {
      "cell_type": "code",
      "execution_count": 278,
      "metadata": {
        "id": "-0Cv_V2dQ2K_"
      },
      "outputs": [],
      "source": [
        "from csv import reader\n",
        "\n",
        "class open_archives():\n",
        "  def __init__(self, archive):\n",
        "    opened_file = open(archive, encoding=\"utf-8\")\n",
        "    self.read_file = list(reader(opened_file))\n",
        "    self.d = self.read_file[1:]\n",
        "    self.header = self.read_file[0]\n",
        "\n",
        "  def explore_data(self, start, end, rows_and_columns=False):\n",
        "    dataset_slice = self.d[start:end]    \n",
        "    for row in dataset_slice:\n",
        "        print(row)\n",
        "        print('\\n')  # adds a new (empty) line between rows\n",
        "          \n",
        "    if rows_and_columns:\n",
        "        print('Number of rows:', len(self.d))\n",
        "        print('Number of columns:', len(self.d[0]))\n",
        "  def delete(self, line):\n",
        "    del self.d[line]\n",
        "  def verify_dup(self, p):\n",
        "    duplicate_apps = []\n",
        "    unique_apps = []\n",
        "\n",
        "    for app in self.d:\n",
        "      name = app[p]\n",
        "      if name in unique_apps:\n",
        "        duplicate_apps.append(name)\n",
        "      else:\n",
        "        unique_apps.append(name)\n",
        "    \n",
        "    print('Number of duplicate apps:', len(duplicate_apps))\n",
        "    print('\\n')\n",
        "    print('Examples of duplicate apps:', duplicate_apps[:15])\n",
        "  \n",
        "  def rev_max(self, p, r):\n",
        "    self.reviews_max = {}\n",
        "    for app in self.d:\n",
        "      name = app[p]\n",
        "      n_reviews = app[r]\n",
        "    \n",
        "      if name in self.reviews_max and self.reviews_max[name] < n_reviews:\n",
        "        self.reviews_max[name] = n_reviews\n",
        "        \n",
        "      elif name not in self.reviews_max:\n",
        "        self.reviews_max[name] = n_reviews\n",
        "    print('Expected length:', len(self.d) - 1181)\n",
        "    print('Actual length:', len(self.reviews_max))\n",
        "  def remove_dup(self, p, r):\n",
        "    self.clean = []\n",
        "    already_added = []\n",
        "\n",
        "    for app in self.d:\n",
        "      name = app[p]\n",
        "      n_reviews = app[r]\n",
        "    \n",
        "      if (self.reviews_max[name] == n_reviews) and (name not in already_added):\n",
        "        self.clean.append(app)\n",
        "        already_added.append(name) # make sure this is inside the if block\n",
        "  \n",
        "  def is_English(string):\n",
        "    non_ascii = 0\n",
        "    \n",
        "    for character in string:\n",
        "        if ord(character) > 127:\n",
        "            non_ascii += 1\n",
        "    \n",
        "    if non_ascii > 3:\n",
        "        return False\n",
        "    else:\n",
        "        return True\n",
        "\n",
        "  def non_English(self, p):\n",
        "    self.apps_english = []\n",
        "\n",
        "    for app in self.clean:\n",
        "      name = app[p]\n",
        "      if open_archives.is_English(name):\n",
        "        self.apps_english.append(app)\n",
        "    print(len(self.apps_english))\n",
        "\n",
        "  def isolating_FA(self, p):\n",
        "    apps_final = []\n",
        "\n",
        "    for app in self.apps_english:\n",
        "      price = app[p]\n",
        "      if price == '0' or price == '0.0':\n",
        "        apps_final.append(app)\n",
        "        \n",
        "    print(len(apps_final))\n",
        "  def freq_table(self, index):\n",
        "    table = {}\n",
        "    total = 0\n",
        "    \n",
        "    for row in self.d:\n",
        "        total += 1\n",
        "        value = row[index]\n",
        "        if value in table:\n",
        "            table[value] += 1\n",
        "        else:\n",
        "            table[value] = 1\n",
        "    \n",
        "    table_percentages = {}\n",
        "    for key in table:\n",
        "        percentage = (table[key] / total) * 100\n",
        "        table_percentages[key] = percentage \n",
        "    \n",
        "    return table_percentages\n",
        "\n",
        "\n",
        "  def display_table(self, index):\n",
        "    table = open_archives.freq_table(self, index)\n",
        "    table_display = []\n",
        "    for key in table:\n",
        "        key_val_as_tuple = (table[key], key)\n",
        "        table_display.append(key_val_as_tuple)\n",
        "        \n",
        "    table_sorted = sorted(table_display, reverse = True)\n",
        "    for entry in table_sorted:\n",
        "        print(entry[1], ':', entry[0])"
      ]
    },
    {
      "cell_type": "markdown",
      "source": [
        "## First Step\n",
        "- Choose the archive to be used: \n",
        "  - IOS: 'AppleStore.csv'\n",
        "  - Android: 'googleplaystore.csv'"
      ],
      "metadata": {
        "id": "YDPZw5crtXj1"
      }
    },
    {
      "cell_type": "code",
      "source": [
        "teste = open_archives(\"googleplaystore.csv\")"
      ],
      "metadata": {
        "id": "75Obk27LdMua"
      },
      "execution_count": 279,
      "outputs": []
    },
    {
      "cell_type": "markdown",
      "source": [
        "## Second Step\n",
        " - To explore data, use 3 parameters: value of start, value of end and boolean for show rows and columns.\n",
        " "
      ],
      "metadata": {
        "id": "uy0pKh9ktuN1"
      }
    },
    {
      "cell_type": "code",
      "source": [
        "teste.explore_data(0, 3, True)"
      ],
      "metadata": {
        "colab": {
          "base_uri": "https://localhost:8080/"
        },
        "id": "kFv6ciRJWjz8",
        "outputId": "49bae8ac-79d9-45be-f50c-20b6594e38ea"
      },
      "execution_count": 280,
      "outputs": [
        {
          "output_type": "stream",
          "name": "stdout",
          "text": [
            "['Photo Editor & Candy Camera & Grid & ScrapBook', 'ART_AND_DESIGN', '4.1', '159', '19M', '10,000+', 'Free', '0', 'Everyone', 'Art & Design', 'January 7, 2018', '1.0.0', '4.0.3 and up']\n",
            "\n",
            "\n",
            "['Coloring book moana', 'ART_AND_DESIGN', '3.9', '967', '14M', '500,000+', 'Free', '0', 'Everyone', 'Art & Design;Pretend Play', 'January 15, 2018', '2.0.0', '4.0.3 and up']\n",
            "\n",
            "\n",
            "['U Launcher Lite – FREE Live Cool Themes, Hide Apps', 'ART_AND_DESIGN', '4.7', '87510', '8.7M', '5,000,000+', 'Free', '0', 'Everyone', 'Art & Design', 'August 1, 2018', '1.2.4', '4.0.3 and up']\n",
            "\n",
            "\n",
            "Number of rows: 10841\n",
            "Number of columns: 13\n"
          ]
        }
      ]
    },
    {
      "cell_type": "markdown",
      "source": [
        "## Third Step\n",
        "  - To verify duplicates use the parameter who identifies the line;\n",
        "  - To see max reviews from the list reviews, use 2 parameters for App and Reviews;\n",
        "  - To remove duplicates, use the same parameters used before in reviews's function. "
      ],
      "metadata": {
        "id": "7cCEW8LnuVri"
      }
    },
    {
      "cell_type": "code",
      "source": [
        "teste.verify_dup(0)\n",
        "teste.rev_max(0, 3)\n",
        "teste.remove_dup(0, 3)"
      ],
      "metadata": {
        "colab": {
          "base_uri": "https://localhost:8080/"
        },
        "id": "7SR1GzLHuYo5",
        "outputId": "46fe447f-5a25-41a0-8c64-c4a88e08c1ec"
      },
      "execution_count": 281,
      "outputs": [
        {
          "output_type": "stream",
          "name": "stdout",
          "text": [
            "Number of duplicate apps: 1181\n",
            "\n",
            "\n",
            "Examples of duplicate apps: ['Quick PDF Scanner + OCR FREE', 'Box', 'Google My Business', 'ZOOM Cloud Meetings', 'join.me - Simple Meetings', 'Box', 'Zenefits', 'Google Ads', 'Google My Business', 'Slack', 'FreshBooks Classic', 'Insightly CRM', 'QuickBooks Accounting: Invoicing & Expenses', 'HipChat - Chat Built for Teams', 'Xero Accounting Software']\n",
            "Expected length: 9660\n",
            "Actual length: 9660\n"
          ]
        }
      ]
    },
    {
      "cell_type": "markdown",
      "source": [
        "## Fourth Step | Non-English Apps and Free Apps\n",
        "  - Use the right parameters for both functions, they are different depending of the analised platform."
      ],
      "metadata": {
        "id": "jGdl9-LyyilT"
      }
    },
    {
      "cell_type": "code",
      "source": [
        "teste.non_English(0)\n",
        "teste.isolating_FA(7)"
      ],
      "metadata": {
        "colab": {
          "base_uri": "https://localhost:8080/"
        },
        "id": "4VBNGqC72OHH",
        "outputId": "d8222351-ea51-4f07-bb34-351ba1070d26"
      },
      "execution_count": 282,
      "outputs": [
        {
          "output_type": "stream",
          "name": "stdout",
          "text": [
            "9615\n",
            "8862\n"
          ]
        }
      ]
    },
    {
      "cell_type": "markdown",
      "source": [
        "## Fifth Step | Frequency Table and Display Table\n",
        "  - As stated earlier, the parameters differ depending on the platform to be analyzed."
      ],
      "metadata": {
        "id": "HD9eqaAqEVC2"
      }
    },
    {
      "cell_type": "code",
      "source": [
        "teste.freq_table(1)\n",
        "teste.display_table(1)"
      ],
      "metadata": {
        "colab": {
          "base_uri": "https://localhost:8080/"
        },
        "id": "jwu40LvAETsI",
        "outputId": "37752e20-36bd-4908-b4e2-2b638b0cd1af"
      },
      "execution_count": 283,
      "outputs": [
        {
          "output_type": "stream",
          "name": "stdout",
          "text": [
            "FAMILY : 18.190203855732868\n",
            "GAME : 10.55253205423854\n",
            "TOOLS : 7.7760354210866165\n",
            "MEDICAL : 4.27082372474864\n",
            "BUSINESS : 4.243151000830181\n",
            "PRODUCTIVITY : 3.911078313808689\n",
            "PERSONALIZATION : 3.615902592011807\n",
            "COMMUNICATION : 3.569781385481044\n",
            "SPORTS : 3.5421086615625867\n",
            "LIFESTYLE : 3.5236601789502817\n",
            "FINANCE : 3.3760723180518406\n",
            "HEALTH_AND_FITNESS : 3.1454662853980264\n",
            "PHOTOGRAPHY : 3.090120837561111\n",
            "SOCIAL : 2.721151185315008\n",
            "NEWS_AND_MAGAZINES : 2.610460289641177\n",
            "SHOPPING : 2.398302739599668\n",
            "TRAVEL_AND_LOCAL : 2.379854256987363\n",
            "DATING : 2.158472465639701\n",
            "BOOKS_AND_REFERENCE : 2.130799741721243\n",
            "VIDEO_PLAYERS : 1.6142422285766997\n",
            "EDUCATION : 1.4389816437598009\n",
            "ENTERTAINMENT : 1.3744119546167328\n",
            "MAPS_AND_NAVIGATION : 1.263721058942902\n",
            "FOOD_AND_DRINK : 1.1714786458813762\n",
            "HOUSE_AND_HOME : 0.8117332349414261\n",
            "LIBRARIES_AND_DEMO : 0.7840605110229684\n",
            "AUTO_AND_VEHICLES : 0.7840605110229684\n",
            "WEATHER : 0.7563877871045107\n",
            "ART_AND_DESIGN : 0.599575684899917\n",
            "EVENTS : 0.5903514435937643\n",
            "PARENTING : 0.5534544783691541\n",
            "COMICS : 0.5534544783691541\n",
            "BEAUTY : 0.48888478922608614\n",
            "1.9 : 0.009224241306152568\n"
          ]
        }
      ]
    }
  ]
}